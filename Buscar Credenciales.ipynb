{
 "cells": [
  {
   "cell_type": "code",
   "execution_count": 102,
   "metadata": {},
   "outputs": [],
   "source": [
    "import gspread\n",
    "from oauth2client.service_account import ServiceAccountCredentials\n",
    "from googleapiclient import discovery\n",
    "from pprint import pprint\n",
    "import pandas as pd\n",
    "\n",
    "scope = ['https://www.googleapis.com/auth/drive.readonly']\n",
    "creds = ServiceAccountCredentials.from_json_keyfile_name('client_secret.json',scope)\n",
    "client = gspread.authorize(creds)\n",
    "\n",
    "sheet = client.open('Test SFSF Accesos')\n",
    "worksheet = sheet.worksheet('SFSF')"
   ]
  },
  {
   "cell_type": "code",
   "execution_count": 166,
   "metadata": {},
   "outputs": [],
   "source": [
    "wsheet = worksheet.get_all_values()\n",
    "df = pd.DataFrame.from_records(wsheet[1:])"
   ]
  },
  {
   "cell_type": "code",
   "execution_count": 177,
   "metadata": {},
   "outputs": [],
   "source": [
    "header = (df.loc[df[0] == 'Cliente']).values[0]\n",
    "dataSet = (df.loc[df[0] != 'Cliente']).values"
   ]
  },
  {
   "cell_type": "code",
   "execution_count": 199,
   "metadata": {},
   "outputs": [],
   "source": [
    "dff = pd.DataFrame.from_records(dataSet, columns = header)"
   ]
  },
  {
   "cell_type": "code",
   "execution_count": 215,
   "metadata": {},
   "outputs": [
    {
     "data": {
      "text/html": [
       "<div>\n",
       "<style scoped>\n",
       "    .dataframe tbody tr th:only-of-type {\n",
       "        vertical-align: middle;\n",
       "    }\n",
       "\n",
       "    .dataframe tbody tr th {\n",
       "        vertical-align: top;\n",
       "    }\n",
       "\n",
       "    .dataframe thead th {\n",
       "        text-align: right;\n",
       "    }\n",
       "</style>\n",
       "<table border=\"1\" class=\"dataframe\">\n",
       "  <thead>\n",
       "    <tr style=\"text-align: right;\">\n",
       "      <th></th>\n",
       "      <th>Cliente</th>\n",
       "      <th>Tipo Acceso</th>\n",
       "      <th>Link</th>\n",
       "      <th>Company ID</th>\n",
       "      <th>Usuario</th>\n",
       "      <th>Contraseña</th>\n",
       "      <th></th>\n",
       "    </tr>\n",
       "  </thead>\n",
       "  <tbody>\n",
       "    <tr>\n",
       "      <th>14</th>\n",
       "      <td>Arauco</td>\n",
       "      <td>TST</td>\n",
       "      <td>https://hcm8preview.sapsf.com/login?company=C0...</td>\n",
       "      <td>C0000166617T1</td>\n",
       "      <td>SFADMIN</td>\n",
       "      <td>PHR20189</td>\n",
       "      <td></td>\n",
       "    </tr>\n",
       "    <tr>\n",
       "      <th>15</th>\n",
       "      <td>Arauco</td>\n",
       "      <td>TST</td>\n",
       "      <td>https://hcm8preview.sapsf.com/login?company=C0...</td>\n",
       "      <td>C0000166617T1</td>\n",
       "      <td>PHRADMIN</td>\n",
       "      <td>PHR2018.</td>\n",
       "      <td></td>\n",
       "    </tr>\n",
       "  </tbody>\n",
       "</table>\n",
       "</div>"
      ],
      "text/plain": [
       "   Cliente Tipo Acceso                                               Link  \\\n",
       "14  Arauco         TST  https://hcm8preview.sapsf.com/login?company=C0...   \n",
       "15  Arauco         TST  https://hcm8preview.sapsf.com/login?company=C0...   \n",
       "\n",
       "       Company ID   Usuario Contraseña    \n",
       "14  C0000166617T1   SFADMIN   PHR20189    \n",
       "15  C0000166617T1  PHRADMIN   PHR2018.    "
      ]
     },
     "execution_count": 215,
     "metadata": {},
     "output_type": "execute_result"
    }
   ],
   "source": [
    "cli = 'Arauco'\n",
    "amb = 'TST'\n",
    "\n",
    "cliente = dff.Cliente == cli\n",
    "ambiente = dff['Tipo Acceso'] == amb\n",
    "\n",
    "dff.loc[cliente & ambiente]"
   ]
  },
  {
   "cell_type": "code",
   "execution_count": null,
   "metadata": {},
   "outputs": [],
   "source": []
  }
 ],
 "metadata": {
  "kernelspec": {
   "display_name": "Google_Sheets-sH0UlHGO",
   "language": "python",
   "name": "google_sheets-sh0ulhgo"
  },
  "language_info": {
   "codemirror_mode": {
    "name": "ipython",
    "version": 3
   },
   "file_extension": ".py",
   "mimetype": "text/x-python",
   "name": "python",
   "nbconvert_exporter": "python",
   "pygments_lexer": "ipython3",
   "version": "3.6.4"
  }
 },
 "nbformat": 4,
 "nbformat_minor": 2
}
