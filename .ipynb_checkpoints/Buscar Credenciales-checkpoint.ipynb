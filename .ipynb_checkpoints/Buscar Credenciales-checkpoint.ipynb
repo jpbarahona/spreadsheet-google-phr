{
 "cells": [
  {
   "cell_type": "code",
   "execution_count": 9,
   "metadata": {},
   "outputs": [],
   "source": [
    "import gspread\n",
    "from oauth2client.service_account import ServiceAccountCredentials\n",
    "from googleapiclient import discovery\n",
    "from pprint import pprint\n",
    "import pandas as pd\n",
    "\n",
    "scope = ['https://www.googleapis.com/auth/drive.readonly']\n",
    "creds = ServiceAccountCredentials.from_json_keyfile_name('client_secret.json',scope)\n",
    "client = gspread.authorize(creds)\n",
    "\n",
    "sheet = client.open('Test SFSF Accesos')\n",
    "worksheet = sheet.worksheet('SFSF')"
   ]
  },
  {
   "cell_type": "code",
   "execution_count": 26,
   "metadata": {},
   "outputs": [],
   "source": [
    "df = pd.DataFrame.from_records(worksheet.get_all_values()[1:])"
   ]
  },
  {
   "cell_type": "code",
   "execution_count": 37,
   "metadata": {},
   "outputs": [
    {
     "name": "stdout",
     "output_type": "stream",
     "text": [
      "         0    1                                                  2  \\\n",
      "15  Arauco  TST  https://hcm8preview.sapsf.com/login?company=C0...   \n",
      "16  Arauco  TST  https://hcm8preview.sapsf.com/login?company=C0...   \n",
      "17  Arauco  PRD  https://performancemanager8.successfactors.com...   \n",
      "18  Arauco  PRD     https://performancemanager8.successfactors.com   \n",
      "19  Arauco  DEV  https://performancemanager8.successfactors.com...   \n",
      "\n",
      "                3         4         5 6  \n",
      "15  C0000166617T1   SFADMIN  PHR20189    \n",
      "16  C0000166617T1  PHRADMIN  PHR2018.    \n",
      "17   C0000166617P  PHRADMIN  Phr2019.    \n",
      "18   C0000166617P   SFADMIN  Arauco18    \n",
      "19   C0000166617D  PHRADMIN  Phr2018.    \n"
     ]
    }
   ],
   "source": [
    "print(df.loc[df[0] == 'Arauco'])"
   ]
  },
  {
   "cell_type": "code",
   "execution_count": null,
   "metadata": {},
   "outputs": [],
   "source": []
  },
  {
   "cell_type": "code",
   "execution_count": null,
   "metadata": {},
   "outputs": [],
   "source": []
  }
 ],
 "metadata": {
  "kernelspec": {
   "display_name": "Google_Sheets-sH0UlHGO",
   "language": "python",
   "name": "google_sheets-sh0ulhgo"
  },
  "language_info": {
   "codemirror_mode": {
    "name": "ipython",
    "version": 3
   },
   "file_extension": ".py",
   "mimetype": "text/x-python",
   "name": "python",
   "nbconvert_exporter": "python",
   "pygments_lexer": "ipython3",
   "version": "3.6.4"
  }
 },
 "nbformat": 4,
 "nbformat_minor": 2
}
