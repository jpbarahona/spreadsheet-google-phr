{
 "cells": [
  {
   "cell_type": "code",
   "execution_count": 39,
   "metadata": {},
   "outputs": [],
   "source": [
    "import json\n",
    "from oauth2client.service_account import ServiceAccountCredentials\n",
    "import gspread\n",
    "import pandas\n",
    "\n",
    "config_file = open('./config.json','r')\n",
    "config = json.load(config_file)\n",
    "\n",
    "scope = config['scope']\n",
    "creds = ServiceAccountCredentials.from_json_keyfile_name(config['pathClientSecret'],scope)\n",
    "client = gspread.authorize(creds)\n",
    "\n",
    "sheet = client.open(config['archivo']['credenciales']['sheet'])\n",
    "worksheet = sheet.worksheet(config['archivo']['credenciales']['workSheet'])"
   ]
  },
  {
   "cell_type": "code",
   "execution_count": 40,
   "metadata": {},
   "outputs": [],
   "source": [
    "wsheet = worksheet.get_all_values()\n",
    "df = pd.DataFrame.from_records(wsheet[1:])"
   ]
  },
  {
   "cell_type": "code",
   "execution_count": 41,
   "metadata": {},
   "outputs": [],
   "source": [
    "header = (df.loc[df[0] == 'Cliente']).values[0]\n",
    "dataSet = (df.loc[df[0] != 'Cliente']).values"
   ]
  },
  {
   "cell_type": "code",
   "execution_count": 42,
   "metadata": {},
   "outputs": [],
   "source": [
    "dff = pd.DataFrame.from_records(dataSet, columns = header)"
   ]
  },
  {
   "cell_type": "code",
   "execution_count": 45,
   "metadata": {},
   "outputs": [],
   "source": [
    "def BuscarCredenciales (cliente, ambiente = ''):\n",
    "\tcliente = dff.Cliente == cliente\n",
    "\n",
    "\tconfig_file.close()\n",
    "\n",
    "\tif (ambiente != ''):\n",
    "\t\tambiente = dff['Tipo Acceso'] == ambiente\n",
    "\n",
    "\t\treturn dff.loc[cliente & ambiente]\n",
    "\telse:\n",
    "\t\treturn dff.loc[cliente]"
   ]
  },
  {
   "cell_type": "code",
   "execution_count": 46,
   "metadata": {},
   "outputs": [
    {
     "data": {
      "text/html": [
       "<div>\n",
       "<style scoped>\n",
       "    .dataframe tbody tr th:only-of-type {\n",
       "        vertical-align: middle;\n",
       "    }\n",
       "\n",
       "    .dataframe tbody tr th {\n",
       "        vertical-align: top;\n",
       "    }\n",
       "\n",
       "    .dataframe thead th {\n",
       "        text-align: right;\n",
       "    }\n",
       "</style>\n",
       "<table border=\"1\" class=\"dataframe\">\n",
       "  <thead>\n",
       "    <tr style=\"text-align: right;\">\n",
       "      <th></th>\n",
       "      <th>Cliente</th>\n",
       "      <th>Tipo Acceso</th>\n",
       "      <th>Link</th>\n",
       "      <th>Company ID</th>\n",
       "      <th>Usuario</th>\n",
       "      <th>Contraseña</th>\n",
       "      <th></th>\n",
       "    </tr>\n",
       "  </thead>\n",
       "  <tbody>\n",
       "    <tr>\n",
       "      <th>14</th>\n",
       "      <td>Arauco</td>\n",
       "      <td>TST</td>\n",
       "      <td>https://hcm8preview.sapsf.com/login?company=C0...</td>\n",
       "      <td>C0000166617T1</td>\n",
       "      <td>SFADMIN</td>\n",
       "      <td>PHR20189</td>\n",
       "      <td></td>\n",
       "    </tr>\n",
       "    <tr>\n",
       "      <th>15</th>\n",
       "      <td>Arauco</td>\n",
       "      <td>TST</td>\n",
       "      <td>https://hcm8preview.sapsf.com/login?company=C0...</td>\n",
       "      <td>C0000166617T1</td>\n",
       "      <td>PHRADMIN</td>\n",
       "      <td>PHR2018.</td>\n",
       "      <td></td>\n",
       "    </tr>\n",
       "    <tr>\n",
       "      <th>16</th>\n",
       "      <td>Arauco</td>\n",
       "      <td>PRD</td>\n",
       "      <td>https://performancemanager8.successfactors.com...</td>\n",
       "      <td>C0000166617P</td>\n",
       "      <td>PHRADMIN</td>\n",
       "      <td>Phr2019.</td>\n",
       "      <td></td>\n",
       "    </tr>\n",
       "    <tr>\n",
       "      <th>17</th>\n",
       "      <td>Arauco</td>\n",
       "      <td>PRD</td>\n",
       "      <td>https://performancemanager8.successfactors.com</td>\n",
       "      <td>C0000166617P</td>\n",
       "      <td>SFADMIN</td>\n",
       "      <td>Arauco18</td>\n",
       "      <td></td>\n",
       "    </tr>\n",
       "    <tr>\n",
       "      <th>18</th>\n",
       "      <td>Arauco</td>\n",
       "      <td>DEV</td>\n",
       "      <td>https://performancemanager8.successfactors.com...</td>\n",
       "      <td>C0000166617D</td>\n",
       "      <td>PHRADMIN</td>\n",
       "      <td>Phr2018.</td>\n",
       "      <td></td>\n",
       "    </tr>\n",
       "  </tbody>\n",
       "</table>\n",
       "</div>"
      ],
      "text/plain": [
       "   Cliente Tipo Acceso                                               Link  \\\n",
       "14  Arauco         TST  https://hcm8preview.sapsf.com/login?company=C0...   \n",
       "15  Arauco         TST  https://hcm8preview.sapsf.com/login?company=C0...   \n",
       "16  Arauco         PRD  https://performancemanager8.successfactors.com...   \n",
       "17  Arauco         PRD     https://performancemanager8.successfactors.com   \n",
       "18  Arauco         DEV  https://performancemanager8.successfactors.com...   \n",
       "\n",
       "       Company ID   Usuario Contraseña    \n",
       "14  C0000166617T1   SFADMIN   PHR20189    \n",
       "15  C0000166617T1  PHRADMIN   PHR2018.    \n",
       "16   C0000166617P  PHRADMIN   Phr2019.    \n",
       "17   C0000166617P   SFADMIN   Arauco18    \n",
       "18   C0000166617D  PHRADMIN   Phr2018.    "
      ]
     },
     "execution_count": 46,
     "metadata": {},
     "output_type": "execute_result"
    }
   ],
   "source": [
    "BuscarCredenciales('Arauco')"
   ]
  },
  {
   "cell_type": "code",
   "execution_count": null,
   "metadata": {},
   "outputs": [],
   "source": []
  }
 ],
 "metadata": {
  "kernelspec": {
   "display_name": "Google_Sheets-sH0UlHGO",
   "language": "python",
   "name": "google_sheets-sh0ulhgo"
  },
  "language_info": {
   "codemirror_mode": {
    "name": "ipython",
    "version": 3
   },
   "file_extension": ".py",
   "mimetype": "text/x-python",
   "name": "python",
   "nbconvert_exporter": "python",
   "pygments_lexer": "ipython3",
   "version": "3.6.4"
  }
 },
 "nbformat": 4,
 "nbformat_minor": 2
}
