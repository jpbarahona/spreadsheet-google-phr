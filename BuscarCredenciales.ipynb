{
 "cells": [
  {
   "cell_type": "code",
   "execution_count": 39,
   "metadata": {},
   "outputs": [],
   "source": [
    "import json\n",
    "from oauth2client.service_account import ServiceAccountCredentials\n",
    "import gspread\n",
    "import pandas\n",
    "\n",
    "config_file = open('./config.json','r')\n",
    "config = json.load(config_file)\n",
    "\n",
    "scope = config['scope']\n",
    "creds = ServiceAccountCredentials.from_json_keyfile_name(config['pathClientSecret'],scope)\n",
    "client = gspread.authorize(creds)\n",
    "\n",
    "sheet = client.open(config['archivo']['credenciales']['sheet'])\n",
    "worksheet = sheet.worksheet(config['archivo']['credenciales']['workSheet'])"
   ]
  },
  {
   "cell_type": "code",
   "execution_count": 40,
   "metadata": {},
   "outputs": [],
   "source": [
    "wsheet = worksheet.get_all_values()\n",
    "df = pd.DataFrame.from_records(wsheet[1:])"
   ]
  },
  {
   "cell_type": "code",
   "execution_count": 41,
   "metadata": {},
   "outputs": [],
   "source": [
    "header = (df.loc[df[0] == 'Cliente']).values[0]\n",
    "dataSet = (df.loc[df[0] != 'Cliente']).values"
   ]
  },
  {
   "cell_type": "code",
   "execution_count": 42,
   "metadata": {},
   "outputs": [],
   "source": [
    "dff = pd.DataFrame.from_records(dataSet, columns = header)"
   ]
  },
  {
   "cell_type": "code",
   "execution_count": 43,
   "metadata": {},
   "outputs": [],
   "source": [
    "def BuscarCredenciales (cliente, ambiente = ''):\n",
    "\tcliente = dff.Cliente == cliente\n",
    "\n",
    "\tconfig_file.close()\n",
    "\n",
    "\tif (ambiente != ''):\n",
    "\t\tambiente = dff['Tipo Acceso'] == ambiente\n",
    "\n",
    "\t\treturn dff.loc[cliente & ambiente]\n",
    "\telse:\n",
    "\t\treturn dff.loc[cliente]"
   ]
  },
  {
   "cell_type": "code",
   "execution_count": 44,
   "metadata": {},
   "outputs": [
    {
     "ename": "AttributeError",
     "evalue": "'dict' object has no attribute 'close'",
     "output_type": "error",
     "traceback": [
      "\u001b[0;31m--------------------------------------------------------------------------\u001b[0m",
      "\u001b[0;31mAttributeError\u001b[0m                           Traceback (most recent call last)",
      "\u001b[0;32m<ipython-input-44-d64295d1555c>\u001b[0m in \u001b[0;36m<module>\u001b[0;34m()\u001b[0m\n\u001b[0;32m----> 1\u001b[0;31m \u001b[0mBuscarCredenciales\u001b[0m\u001b[0;34m(\u001b[0m\u001b[0;34m'Arauco'\u001b[0m\u001b[0;34m)\u001b[0m\u001b[0;34m\u001b[0m\u001b[0m\n\u001b[0m",
      "\u001b[0;32m<ipython-input-43-71905c650394>\u001b[0m in \u001b[0;36mBuscarCredenciales\u001b[0;34m(cliente, ambiente)\u001b[0m\n\u001b[1;32m      2\u001b[0m         \u001b[0mcliente\u001b[0m \u001b[0;34m=\u001b[0m \u001b[0mdff\u001b[0m\u001b[0;34m.\u001b[0m\u001b[0mCliente\u001b[0m \u001b[0;34m==\u001b[0m \u001b[0mcliente\u001b[0m\u001b[0;34m\u001b[0m\u001b[0m\n\u001b[1;32m      3\u001b[0m \u001b[0;34m\u001b[0m\u001b[0m\n\u001b[0;32m----> 4\u001b[0;31m         \u001b[0mconfig\u001b[0m\u001b[0;34m.\u001b[0m\u001b[0mclose\u001b[0m\u001b[0;34m(\u001b[0m\u001b[0;34m)\u001b[0m\u001b[0;34m\u001b[0m\u001b[0m\n\u001b[0m\u001b[1;32m      5\u001b[0m \u001b[0;34m\u001b[0m\u001b[0m\n\u001b[1;32m      6\u001b[0m         \u001b[0;32mif\u001b[0m \u001b[0;34m(\u001b[0m\u001b[0mambiente\u001b[0m \u001b[0;34m!=\u001b[0m \u001b[0;34m''\u001b[0m\u001b[0;34m)\u001b[0m\u001b[0;34m:\u001b[0m\u001b[0;34m\u001b[0m\u001b[0m\n",
      "\u001b[0;31mAttributeError\u001b[0m: 'dict' object has no attribute 'close'"
     ]
    }
   ],
   "source": [
    "BuscarCredenciales('Arauco')"
   ]
  },
  {
   "cell_type": "code",
   "execution_count": null,
   "metadata": {},
   "outputs": [],
   "source": []
  }
 ],
 "metadata": {
  "kernelspec": {
   "display_name": "Google_Sheets-sH0UlHGO",
   "language": "python",
   "name": "google_sheets-sh0ulhgo"
  },
  "language_info": {
   "codemirror_mode": {
    "name": "ipython",
    "version": 3
   },
   "file_extension": ".py",
   "mimetype": "text/x-python",
   "name": "python",
   "nbconvert_exporter": "python",
   "pygments_lexer": "ipython3",
   "version": "3.6.4"
  }
 },
 "nbformat": 4,
 "nbformat_minor": 2
}
